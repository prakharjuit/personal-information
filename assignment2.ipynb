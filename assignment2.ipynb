{
  "nbformat": 4,
  "nbformat_minor": 0,
  "metadata": {
    "colab": {
      "name": "assignment2.ipynb",
      "provenance": [],
      "collapsed_sections": [],
      "authorship_tag": "ABX9TyNGdNXlAOzJGV57h+h53xdp",
      "include_colab_link": true
    },
    "kernelspec": {
      "name": "python3",
      "display_name": "Python 3"
    },
    "language_info": {
      "name": "python"
    }
  },
  "cells": [
    {
      "cell_type": "markdown",
      "metadata": {
        "id": "view-in-github",
        "colab_type": "text"
      },
      "source": [
        "<a href=\"https://colab.research.google.com/github/prakharjuit/personal-information/blob/main/assignment2.ipynb\" target=\"_parent\"><img src=\"https://colab.research.google.com/assets/colab-badge.svg\" alt=\"Open In Colab\"/></a>"
      ]
    },
    {
      "cell_type": "code",
      "metadata": {
        "colab": {
          "base_uri": "https://localhost:8080/",
          "height": 615
        },
        "id": "9p2FmBpPpY7v",
        "outputId": "e6d935b7-beb6-4309-dea5-db36666c779d"
      },
      "source": [
        "a=5\n",
        "b=6\n",
        "print(\"using arithmetic operators\")\n",
        "print(\"sum is:\"+str(a+b))\n",
        "print(\"product is:\"+str(a*b))\n",
        "print(\"remainder of b divided by a:\"+str(b%a))\n",
        "print('exponent:'+str(a**2))\n",
        "print(\"using bitwise operators\")\n",
        "print(\"not operator\"+str(~a))\n",
        "print(\"and operator:\"+str(b&a))\n",
        "print(\"using membership operators\")\n",
        "x=[\"abc\",\"def\"]\n",
        "print(\"abc\"in x)\n",
        "print(\"abc\" not in x)\n",
        "print(\"using assignment operator\")\n",
        "a+=4\n",
        "print(\"a:\"+str(a))\n",
        "a=b*2\n",
        "print(\"a:\"+str(a))\n",
        "a%=b\n",
        "print('a:'+str(a))\n",
        "print('using comparison operators')\n",
        "print(a>b)\n",
        "print(a==b)\n",
        "print(b>a)\n",
        "print(a!=b)\n",
        "print('using identity operators')\n",
        "print(a is not b)\n",
        "print('using logical operators')\n",
        "print('and operator(a and b):'+str(a and b))\n",
        "print('or operator(a or b):'+str(a or b))"
      ],
      "execution_count": 17,
      "outputs": [
        {
          "output_type": "stream",
          "text": [
            "using arithmetic operators\n",
            "sum is:11\n",
            "product is:30\n",
            "remainder of b divided by a:1\n",
            "exponent:25\n",
            "using bitwise operators\n",
            "not operator-6\n",
            "and operator:4\n",
            "using membership operators\n",
            "True\n",
            "False\n",
            "using assignment operator\n",
            "a:9\n",
            "a:12\n",
            "a:0\n",
            "using comparison operators\n",
            "False\n",
            "False\n",
            "True\n",
            "True\n",
            "using identity operators\n",
            "True\n",
            "using logical operators\n"
          ],
          "name": "stdout"
        },
        {
          "output_type": "error",
          "ename": "NameError",
          "evalue": "ignored",
          "traceback": [
            "\u001b[0;31m---------------------------------------------------------------------------\u001b[0m",
            "\u001b[0;31mNameError\u001b[0m                                 Traceback (most recent call last)",
            "\u001b[0;32m<ipython-input-17-965dbbe49ac7>\u001b[0m in \u001b[0;36m<module>\u001b[0;34m()\u001b[0m\n\u001b[1;32m     28\u001b[0m \u001b[0mprint\u001b[0m\u001b[0;34m(\u001b[0m\u001b[0ma\u001b[0m \u001b[0;32mis\u001b[0m \u001b[0;32mnot\u001b[0m \u001b[0mb\u001b[0m\u001b[0;34m)\u001b[0m\u001b[0;34m\u001b[0m\u001b[0;34m\u001b[0m\u001b[0m\n\u001b[1;32m     29\u001b[0m \u001b[0mprint\u001b[0m\u001b[0;34m(\u001b[0m\u001b[0;34m'using logical operators'\u001b[0m\u001b[0;34m)\u001b[0m\u001b[0;34m\u001b[0m\u001b[0;34m\u001b[0m\u001b[0m\n\u001b[0;32m---> 30\u001b[0;31m \u001b[0ma\u001b[0m\u001b[0;34m=\u001b[0m\u001b[0mtrue\u001b[0m\u001b[0;34m\u001b[0m\u001b[0;34m\u001b[0m\u001b[0m\n\u001b[0m\u001b[1;32m     31\u001b[0m \u001b[0mb\u001b[0m\u001b[0;34m=\u001b[0m\u001b[0mfalse\u001b[0m\u001b[0;34m\u001b[0m\u001b[0;34m\u001b[0m\u001b[0m\n\u001b[1;32m     32\u001b[0m \u001b[0mprint\u001b[0m\u001b[0;34m(\u001b[0m\u001b[0;34m'and operator(a and b):'\u001b[0m\u001b[0;34m+\u001b[0m\u001b[0mstr\u001b[0m\u001b[0;34m(\u001b[0m\u001b[0ma\u001b[0m \u001b[0;32mand\u001b[0m \u001b[0mb\u001b[0m\u001b[0;34m)\u001b[0m\u001b[0;34m)\u001b[0m\u001b[0;34m\u001b[0m\u001b[0;34m\u001b[0m\u001b[0m\n",
            "\u001b[0;31mNameError\u001b[0m: name 'true' is not defined"
          ]
        }
      ]
    },
    {
      "cell_type": "code",
      "metadata": {
        "id": "UZx1P56trt_f"
      },
      "source": [
        ""
      ],
      "execution_count": 17,
      "outputs": []
    }
  ]
}